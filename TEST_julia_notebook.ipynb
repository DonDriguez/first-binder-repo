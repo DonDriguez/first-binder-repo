{
 "cells": [
  {
   "cell_type": "markdown",
   "id": "9bf6dce6",
   "metadata": {},
   "source": [
    "# Some basic tests\n",
    "\n",
    "## Loading Packages"
   ]
  },
  {
   "cell_type": "code",
   "execution_count": 1,
   "id": "7e32b6aa",
   "metadata": {},
   "outputs": [
    {
     "name": "stdout",
     "output_type": "stream",
     "text": [
      "Code\n"
     ]
    }
   ],
   "source": [
    "println(\"Code\");"
   ]
  },
  {
   "cell_type": "markdown",
   "id": "9793b17f",
   "metadata": {},
   "source": [
    "Contrary to popular belief, Lorem Ipsum is not simply random text. It has roots in a piece of classical Latin literature from 45 BC, making it over 2000 years old. Richard McClintock, a Latin professor at Hampden-Sydney College in Virginia, looked up one of the more obscure Latin words, consectetur, from a Lorem Ipsum passage, and going through the cites of the word in classical literature, discovered the undoubtable source. Lorem Ipsum comes from sections 1.10.32 and 1.10.33 of \"de Finibus Bonorum et Malorum\" (The Extremes of Good and Evil) by Cicero, written in 45 BC. This book is a treatise on the theory of ethics, very popular during the Renaissance. The first line of Lorem Ipsum, \"Lorem ipsum dolor sit amet..\", comes from a line in section 1.10.32.\n"
   ]
  },
  {
   "cell_type": "code",
   "execution_count": 2,
   "id": "1c531167",
   "metadata": {},
   "outputs": [
    {
     "name": "stdout",
     "output_type": "stream",
     "text": [
      "We assume that the following packages are already installed\n",
      " -----    -----    -----      -      -----   \n",
      "|     |  |     |  |     |    | |    |     |  \n",
      "|     |  |        |         |   |   |     |  \n",
      "|     |   -----   |        |     |  |-----   \n",
      "|     |        |  |        |-----|  |   |    \n",
      "|     |  |     |  |     |  |     |  |    |   \n",
      " -----    -----    -----   -     -  -     -  \n",
      "\n",
      "...combining (and extending) ANTIC, GAP, Polymake and Singular\n",
      "Version\u001b[32m 0.6.0 \u001b[39m... \n",
      " ... which comes with absolutely no warranty whatsoever\n",
      "Type: '?Oscar' for more information\n",
      "(c) 2019-2021 by The Oscar Development Team\n",
      ":)\n"
     ]
    }
   ],
   "source": [
    "println(\"We assume that the following packages are already installed\");\n",
    "using TickTock\n",
    "using Oscar\n",
    "using JLD\n",
    "using Combinatorics\n",
    "println(\":)\")"
   ]
  },
  {
   "cell_type": "markdown",
   "id": "69731f1e",
   "metadata": {},
   "source": [
    "## Latex"
   ]
  },
  {
   "cell_type": "markdown",
   "id": "7232790e",
   "metadata": {},
   "source": [
    "LateX can be used inside Markdown. The $A_3$-Quiver is small. $$ \\textbf{d} = (\\dim_K(P\\oplus I)_i)_{i\\in Q_0}$$"
   ]
  },
  {
   "cell_type": "markdown",
   "id": "e82b7cbb",
   "metadata": {},
   "source": [
    "## Saving Data"
   ]
  },
  {
   "cell_type": "code",
   "execution_count": 19,
   "id": "ef07b887",
   "metadata": {},
   "outputs": [],
   "source": [
    "NR_ROOTS = 12\n",
    "NR_NODES = 4\n",
    "NR_ARROWS = 3\n",
    "\n",
    "arrow_list = [1 2; 2 3; 3 4]\n",
    "ddim_vec = [4 4 4]\n",
    "edim_vec = [1 2 3]\n",
    "\n",
    "roots_list = [\n",
    "[1,0,0],\n",
    "[0,1,0],\n",
    "[0,0,1],\n",
    "[1,1,0],\n",
    "[0,1,1],\n",
    "[1,1,1]]; # suppress output"
   ]
  },
  {
   "cell_type": "markdown",
   "id": "7f272df9",
   "metadata": {},
   "source": [
    "We test saving and loading data from storage using the JLD package."
   ]
  },
  {
   "cell_type": "code",
   "execution_count": 31,
   "id": "7f6e92a2",
   "metadata": {},
   "outputs": [
    {
     "name": "stderr",
     "output_type": "stream",
     "text": [
      "┌ Info:  started timer at: 2021-10-19T07:39:06.757\n",
      "└ @ TickTock /home/janro/.julia/packages/TickTock/RsTHR/src/TickTock.jl:32\n"
     ]
    },
    {
     "name": "stdout",
     "output_type": "stream",
     "text": [
      "1.53550017 seconds have passed"
     ]
    }
   ],
   "source": [
    "tick();\n",
    "save(\"datafile_test.jld\",\"roots_list\",roots_list,\"arrow_list\",arrow_list)\n",
    "print(\"$(tok()) seconds have passed\")"
   ]
  },
  {
   "cell_type": "markdown",
   "id": "628a14ad",
   "metadata": {},
   "source": [
    "Loading a file first yields a julia-dictionary, from which we can then access the stored data."
   ]
  },
  {
   "cell_type": "code",
   "execution_count": 3,
   "id": "3b7e4da1",
   "metadata": {},
   "outputs": [
    {
     "name": "stderr",
     "output_type": "stream",
     "text": [
      "┌ Info:  started timer at: 2021-10-19T07:47:58.332\n",
      "└ @ TickTock /home/janro/.julia/packages/TickTock/RsTHR/src/TickTock.jl:32\n"
     ]
    },
    {
     "name": "stdout",
     "output_type": "stream",
     "text": [
      "Loading took 5.866288979 seconds"
     ]
    }
   ],
   "source": [
    "tick();\n",
    "data_dict = load(\"datafile_test.jld\")\n",
    "print(\"Loading took $(tok()) seconds\")"
   ]
  },
  {
   "cell_type": "code",
   "execution_count": 4,
   "id": "d371a223",
   "metadata": {},
   "outputs": [
    {
     "name": "stdout",
     "output_type": "stream",
     "text": [
      "roots_list : [[1, 0, 0], [0, 1, 0], [0, 0, 1], [1, 1, 0], [0, 1, 1], [1, 1, 1]]\n",
      "arrow_list : [1 2; 2 3; 3 4]\n"
     ]
    }
   ],
   "source": [
    "for (index, value) in pairs(data_dict)\n",
    "           println(\"$index : $value\")\n",
    "end\n",
    "arrow_list_loaded = data_dict[\"arrow_list\"];"
   ]
  },
  {
   "cell_type": "markdown",
   "id": "1618b3b0",
   "metadata": {},
   "source": [
    "Once we have this data, we can shutdown the notebook. If we restart, we don't need to compute the data again. It can be loaded immediately. Remember to reload the packages as well."
   ]
  },
  {
   "cell_type": "code",
   "execution_count": null,
   "id": "fc3daf83",
   "metadata": {},
   "outputs": [],
   "source": []
  }
 ],
 "metadata": {
  "kernelspec": {
   "display_name": "Julia 1.6.2",
   "language": "julia",
   "name": "julia-1.6"
  },
  "language_info": {
   "file_extension": ".jl",
   "mimetype": "application/julia",
   "name": "julia",
   "version": "1.6.2"
  }
 },
 "nbformat": 4,
 "nbformat_minor": 5
}
